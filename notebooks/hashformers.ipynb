{
 "cells": [
  {
   "cell_type": "code",
   "execution_count": null,
   "metadata": {},
   "outputs": [],
   "source": [
    "%pip install hashformers"
   ]
  },
  {
   "cell_type": "code",
   "execution_count": 12,
   "metadata": {},
   "outputs": [
    {
     "name": "stdout",
     "output_type": "stream",
     "text": [
      "['we need a national park', 'ice cold']\n"
     ]
    }
   ],
   "source": [
    "from hashformers import TransformerWordSegmenter as WordSegmenter\n",
    "\n",
    "ws = WordSegmenter(\n",
    "    segmenter_model_name_or_path=\"gpt2\",\n",
    "    segmenter_device=\"cpu\" #cuda\n",
    "    #reranker_model_name_or_path= \"bert-base-uncased\"\n",
    "    #reranker_model_name_or_path=\"bert-base-uncased\"\n",
    ")\n",
    "\n",
    "segmentations = ws.segment([\n",
    "    \"#weneedanationalpark\",\n",
    "    \"#icecold\"\n",
    "])\n",
    "\n",
    "print(segmentations)\n",
    "\n",
    "# [ 'we need a national park',\n",
    "# 'ice cold' ]"
   ]
  }
 ],
 "metadata": {
  "kernelspec": {
   "display_name": "Python 3",
   "language": "python",
   "name": "python3"
  },
  "language_info": {
   "codemirror_mode": {
    "name": "ipython",
    "version": 3
   },
   "file_extension": ".py",
   "mimetype": "text/x-python",
   "name": "python",
   "nbconvert_exporter": "python",
   "pygments_lexer": "ipython3",
   "version": "3.10.6 (main, Nov 14 2022, 16:10:14) [GCC 11.3.0]"
  },
  "orig_nbformat": 4,
  "vscode": {
   "interpreter": {
    "hash": "eb4a0ac80907d7f44e1a5e88d3d3381b33e3dbedd3a24d113e876f30a0c46bee"
   }
  }
 },
 "nbformat": 4,
 "nbformat_minor": 2
}
